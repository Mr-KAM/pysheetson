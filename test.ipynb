{
 "cells": [
  {
   "cell_type": "code",
   "execution_count": 2,
   "id": "85ec8f86",
   "metadata": {},
   "outputs": [
    {
     "name": "stdout",
     "output_type": "stream",
     "text": [
      "Requirement already satisfied: python-dotenv in c:\\users\\kanic\\appdata\\local\\programs\\python\\python312\\lib\\site-packages (1.0.0)\n"
     ]
    },
    {
     "name": "stderr",
     "output_type": "stream",
     "text": [
      "\n",
      "[notice] A new release of pip is available: 25.1.1 -> 25.2\n",
      "[notice] To update, run: C:\\Users\\kanic\\AppData\\Local\\Programs\\Python\\Python312\\python.exe -m pip install --upgrade pip\n"
     ]
    }
   ],
   "source": [
    "! pip install python-dotenv"
   ]
  },
  {
   "cell_type": "code",
   "execution_count": 3,
   "id": "a97b3fd8",
   "metadata": {},
   "outputs": [
    {
     "data": {
      "text/plain": [
       "True"
      ]
     },
     "execution_count": 3,
     "metadata": {},
     "output_type": "execute_result"
    }
   ],
   "source": [
    "import pysheetson as ps\n",
    "import os\n",
    "from dotenv import load_dotenv\n",
    "\n",
    "load_dotenv()  # take environment variables"
   ]
  },
  {
   "cell_type": "code",
   "execution_count": 5,
   "id": "54ea3d2a",
   "metadata": {},
   "outputs": [],
   "source": [
    "sheetId=\"1SLaVG7DmVy84N0FGH_iJ-jFzB4p30QpNqtBGrzvtp1w\""
   ]
  },
  {
   "cell_type": "code",
   "execution_count": 6,
   "id": "2b2af82a",
   "metadata": {},
   "outputs": [],
   "source": [
    "client= ps.SheetsonClient(api_key=os.getenv(\"key\"),spreadsheet_id=sheetId)"
   ]
  },
  {
   "cell_type": "code",
   "execution_count": 8,
   "id": "bdfc73ba",
   "metadata": {},
   "outputs": [
    {
     "data": {
      "text/plain": [
       "{'rowIndex': '2', 'nom': 'kamson', 'prenom': 'jonas cyrille'}"
      ]
     },
     "execution_count": 8,
     "metadata": {},
     "output_type": "execute_result"
    }
   ],
   "source": [
    "client.create_row(sheet=\"feuille\",data={\"nom\":\"kamson\",\"prenom\":\"jonas cyrille\"})"
   ]
  }
 ],
 "metadata": {
  "kernelspec": {
   "display_name": "base",
   "language": "python",
   "name": "python3"
  },
  "language_info": {
   "codemirror_mode": {
    "name": "ipython",
    "version": 3
   },
   "file_extension": ".py",
   "mimetype": "text/x-python",
   "name": "python",
   "nbconvert_exporter": "python",
   "pygments_lexer": "ipython3",
   "version": "3.13.5"
  }
 },
 "nbformat": 4,
 "nbformat_minor": 5
}
